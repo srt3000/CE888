{
  "nbformat": 4,
  "nbformat_minor": 0,
  "metadata": {
    "colab": {
      "name": "Copy of bootstrap .ipynb",
      "provenance": [],
      "collapsed_sections": [],
      "include_colab_link": true
    },
    "kernelspec": {
      "display_name": "Python 3",
      "language": "python",
      "name": "python3"
    },
    "language_info": {
      "codemirror_mode": {
        "name": "ipython",
        "version": 3
      },
      "file_extension": ".py",
      "mimetype": "text/x-python",
      "name": "python",
      "nbconvert_exporter": "python",
      "pygments_lexer": "ipython3",
      "version": "3.7.6"
    },
    "pycharm": {
      "stem_cell": {
        "cell_type": "raw",
        "metadata": {
          "collapsed": false
        },
        "source": []
      }
    }
  },
  "cells": [
    {
      "cell_type": "markdown",
      "metadata": {
        "id": "view-in-github",
        "colab_type": "text"
      },
      "source": [
        "<a href=\"https://colab.research.google.com/github/srt3000/CE888/blob/main/Lab_2/Copy_of_bootstrap_.ipynb\" target=\"_parent\"><img src=\"https://colab.research.google.com/assets/colab-badge.svg\" alt=\"Open In Colab\"/></a>"
      ]
    },
    {
      "cell_type": "markdown",
      "metadata": {
        "id": "nCi_99yMYIb1"
      },
      "source": [
        "In this notebook you'll create your own bootstrap function following the bootstrap algorithm (check the lecture notes!)"
      ]
    },
    {
      "cell_type": "code",
      "metadata": {
        "id": "LY5zujI2YC37"
      },
      "source": [
        "import matplotlib\n",
        "import pandas as pd\n",
        "import seaborn as sns\n",
        "import numpy as np\n",
        "\n"
      ],
      "execution_count": null,
      "outputs": []
    },
    {
      "cell_type": "code",
      "metadata": {
        "colab": {
          "base_uri": "https://localhost:8080/"
        },
        "id": "Eqkwj4SMY38t",
        "outputId": "b6cd3ddd-baec-4226-85af-3e95ae9c302b"
      },
      "source": [
        "# Load the data\n",
        "df = pd.read_csv('https://raw.githubusercontent.com/albanda/CE888/master/lab2%20-%20bootstrap/customers.csv')\n",
        "data = df.values.T[1]\n",
        "print(df)  #to print entire dataframe\n",
        "print(data) #Millons of pounds in sales"
      ],
      "execution_count": null,
      "outputs": [
        {
          "output_type": "stream",
          "text": [
            "    Day   Millons of pounds in sales\n",
            "0     1                          2.0\n",
            "1     2                          8.0\n",
            "2     3                         20.0\n",
            "3     4                         13.0\n",
            "4     5                          5.0\n",
            "5     6                          9.0\n",
            "6     7                         10.0\n",
            "7     8                          8.0\n",
            "8     9                         22.0\n",
            "9    10                         10.0\n",
            "10   11                          2.0\n",
            "11   12                          4.0\n",
            "12   13                          7.0\n",
            "13   14                          9.0\n",
            "[ 2.  8. 20. 13.  5.  9. 10.  8. 22. 10.  2.  4.  7.  9.]\n"
          ],
          "name": "stdout"
        }
      ]
    },
    {
      "cell_type": "code",
      "metadata": {
        "colab": {
          "base_uri": "https://localhost:8080/"
        },
        "id": "Gxvc_bScYC4H",
        "outputId": "61ec7c5f-dd4a-4ebb-e524-1f4c93b90fce"
      },
      "source": [
        "# Checking the notes from the lecture, create here your own bootstrap function:\n",
        "# 1. Sample from the input array x to create an array of samples of shape (n_bootstraps, sample_size)\n",
        "# Hint: Check the function random.choice() on Numpy\n",
        "# 2. Calculate and save the mean of the array (this is \"data_mean\" that is returned by the function)\n",
        "# 3. Calculate the mean from each bootstrap (i.e., row) and store it.\n",
        "# (This should be an array of n_bootstraps values)\n",
        "# 4. Calculate the lower and upper bounds for a 95% CI (hint: check the percentile function on Numpy)\n",
        "# 5. Return data_mean, and the lower and upper bounds of your interval\n",
        "# <---INSERT YOUR CODE HERE--->\n",
        "def bootstrap_mean(x, sample_size, n_bootstraps):\n",
        "    sample =np.random.choice(x, size = [n_bootstraps, sample_size], replace = True) \n",
        "    val= []\n",
        "   # data_mean_val = sample.mean()\n",
        "    for i in sample:\n",
        "        mean = i.mean()  #mean of sample\n",
        "        val.append(mean) #store mean values in an array called val\n",
        "    b = np.array(val)  \n",
        "    data_mean = b.mean() #mean of mean values\n",
        "    #lower value= (100-95)/2 = 2.5  \n",
        "    #upper value= (( 95 +(100-95)/2) = 97.5\n",
        "    lower, upper = np.percentile(b, [2.5,97.5]) \n",
        "    return data_mean, lower, upper\n",
        "bootstrap_mean(data, data.shape[0] ,10000)"
      ],
      "execution_count": null,
      "outputs": [
        {
          "output_type": "execute_result",
          "data": {
            "text/plain": [
              "(9.203507142857141, 6.428571428571429, 12.285714285714286)"
            ]
          },
          "metadata": {
            "tags": []
          },
          "execution_count": 33
        }
      ]
    },
    {
      "cell_type": "code",
      "metadata": {
        "colab": {
          "base_uri": "https://localhost:8080/",
          "height": 454
        },
        "id": "AN7sEOcMYC4P",
        "outputId": "3cf3e210-8908-4c2e-a9f2-c6a3dfd82c1d"
      },
      "source": [
        "# Call your bootstrap function and plot the results\n",
        "\n",
        "boots = []\n",
        "for i in range(100, 50000, 1000):\n",
        "    boot = bootstrap_mean(data, data.shape[0], i)\n",
        "    boots.append([i, boot[0], \"mean\"])\n",
        "    boots.append([i, boot[1], \"lower\"])\n",
        "    boots.append([i, boot[2], \"upper\"])\n",
        "\n",
        "df_boot = pd.DataFrame(boots, columns=['Bootstrap Iterations', 'Mean', \"Value\"])\n",
        "sns_plot = sns.lmplot(df_boot.columns[0], df_boot.columns[1], data=df_boot, fit_reg=False, hue=\"Value\")\n",
        "\n",
        "sns_plot.axes[0, 0].set_ylim(0,)\n",
        "sns_plot.axes[0, 0].set_xlim(0, 100000)\n"
      ],
      "execution_count": null,
      "outputs": [
        {
          "output_type": "stream",
          "text": [
            "/usr/local/lib/python3.6/dist-packages/seaborn/_decorators.py:43: FutureWarning: Pass the following variables as keyword args: x, y. From version 0.12, the only valid positional argument will be `data`, and passing other arguments without an explicit keyword will result in an error or misinterpretation.\n",
            "  FutureWarning\n"
          ],
          "name": "stderr"
        },
        {
          "output_type": "execute_result",
          "data": {
            "text/plain": [
              "(0.0, 100000.0)"
            ]
          },
          "metadata": {
            "tags": []
          },
          "execution_count": 34
        },
        {
          "output_type": "display_data",
          "data": {
            "image/png": "[encoded data removed]",
            "text/plain": [
              "<Figure size 425.125x360 with 1 Axes>"
            ]
          },
          "metadata": {
            "tags": [],
            "needs_background": "light"
          }
        }
      ]
    },
    {
      "cell_type": "markdown",
      "metadata": {
        "id": "MjtP4e2_YC4V"
      },
      "source": [
        "\n",
        "Now, modify the bootstrap function you created above so that you can pass your desired confidence interval as a parameter.\n",
        "\n"
      ]
    },
    {
      "cell_type": "code",
      "metadata": {
        "colab": {
          "base_uri": "https://localhost:8080/"
        },
        "id": "3K9j0FuGYhHs",
        "outputId": "1c4bf613-ab2d-4805-978c-31588017c1a6"
      },
      "source": [
        "def bootstrap_mean_ci(sample, sample_size, n_bootstraps, ci):\n",
        "  sample =np.random.choice(sample, size = [n_bootstraps, sample_size], replace = True) \n",
        "  val= []\n",
        "  data_mean = sample.mean()\n",
        "    #mean of array\n",
        "  for i in sample:\n",
        "    mean = i.mean()\n",
        "    val.append(mean)    \n",
        "  b = np.array(val)      \n",
        "  #lower value= (100-95)/2 = 2.5  \n",
        "  #upper value= (( 95 +(100-95)/2) = 97.5    \n",
        "  lower, upper = np.percentile(b, [(100 - ci)/2, ci+(100-ci)/2]) \n",
        "  return data_mean, lower, upper\n",
        "bootstrap_mean_ci(data, data.shape[0],10000, 95)\n"
      ],
      "execution_count": null,
      "outputs": [
        {
          "output_type": "execute_result",
          "data": {
            "text/plain": [
              "(9.19505, 6.428571428571429, 12.357142857142858)"
            ]
          },
          "metadata": {
            "tags": []
          },
          "execution_count": 31
        }
      ]
    },
    {
      "cell_type": "code",
      "metadata": {
        "colab": {
          "base_uri": "https://localhost:8080/",
          "height": 437
        },
        "id": "uDnjq08GYl-C",
        "outputId": "5e3101de-1b68-451c-9b0e-4497c16d9e85"
      },
      "source": [
        "boots = []\n",
        "for i in range(100, 50000, 1000):\n",
        "    boot = bootstrap_mean_ci(data, data.shape[0], i, 80)\n",
        "    boots.append([i, boot[0], \"mean\"])\n",
        "    boots.append([i, boot[1], \"lower\"])\n",
        "    boots.append([i, boot[2], \"upper\"])\n",
        "\n",
        "df_boot = pd.DataFrame(boots, columns=['Boostrap Iterations', 'Mean', \"Value\"])\n",
        "sns_plot = sns.lmplot(df_boot.columns[0], df_boot.columns[1], data=df_boot, fit_reg=False, hue=\"Value\")\n",
        "\n",
        "sns_plot.axes[0, 0].set_ylim(0,)\n",
        "sns_plot.axes[0, 0].set_xlim(0, 100000)\n",
        "\n",
        "sns_plot.savefig(\"bootstrap_confidence_80.pdf\", bbox_inches='tight')\n"
      ],
      "execution_count": null,
      "outputs": [
        {
          "output_type": "stream",
          "text": [
            "/usr/local/lib/python3.6/dist-packages/seaborn/_decorators.py:43: FutureWarning: Pass the following variables as keyword args: x, y. From version 0.12, the only valid positional argument will be `data`, and passing other arguments without an explicit keyword will result in an error or misinterpretation.\n",
            "  FutureWarning\n"
          ],
          "name": "stderr"
        },
        {
          "output_type": "display_data",
          "data": {
            "image/png": "[encoded data removed]",
            "text/plain": [
              "<Figure size 425.125x360 with 1 Axes>"
            ]
          },
          "metadata": {
            "tags": [],
            "needs_background": "light"
          }
        }
      ]
    },
    {
      "cell_type": "markdown",
      "metadata": {
        "id": "qjNgXW6wdd7r"
      },
      "source": [
        "# Vehicles dataset\n",
        "\n",
        "Now let's work on a different dataset, which is stored in the vehicles.csv file.\n"
      ]
    },
    {
      "cell_type": "code",
      "metadata": {
        "colab": {
          "base_uri": "https://localhost:8080/",
          "height": 903
        },
        "id": "avWv4ipFdpka",
        "outputId": "b099ede6-7a98-4c2d-9bd2-eba1e08e7b78"
      },
      "source": [
        "# Load and visualise the vehicles dataset\n",
        "# To load the dataset: https://neptune.ai/blog/google-colab-dealing-with-files (check section \"Load individual files directly from GitHub\")\n",
        "# Note that the current and new fleets are in different columns and have different lengths, so bear this in mind when you're plotting.\n",
        "# You can create separate scatterplots for the two fleets, as you would with the histograms, \n",
        "# or plot them both in one plot (but not one against the other).\n",
        "# Note: you can add more cells as needed to organise your code and your plots\n",
        "# <---CODE--->\n",
        "# Load the data\n",
        "d = pd.read_csv('https://raw.githubusercontent.com/albanda/CE888/master/lab2%20-%20bootstrap/vehicles.csv')\n",
        "print(d)\n",
        "cf= d['Current fleet']\n",
        "nf= d['New Fleet']\n",
        "nf.dropna(inplace=True) #remove the nan values from nf which is a pandas series\n",
        "d['New Fleet'].dropna(inplace=True) #remove the nan values in the new fleet column in the dataframe\n",
        "print(cf)\n",
        "print(nf)\n",
        "\n",
        "sd= d.plot.hist(bins=12, alpha=0.5)\n"
      ],
      "execution_count": null,
      "outputs": [
        {
          "output_type": "stream",
          "text": [
            "     Current fleet  New Fleet\n",
            "0               18       24.0\n",
            "1               15       27.0\n",
            "2               18       27.0\n",
            "3               16       25.0\n",
            "4               17       31.0\n",
            "..             ...        ...\n",
            "244             27        NaN\n",
            "245             27        NaN\n",
            "246             32        NaN\n",
            "247             28        NaN\n",
            "248             31        NaN\n",
            "\n",
            "[249 rows x 2 columns]\n",
            "0      18\n",
            "1      15\n",
            "2      18\n",
            "3      16\n",
            "4      17\n",
            "       ..\n",
            "244    27\n",
            "245    27\n",
            "246    32\n",
            "247    28\n",
            "248    31\n",
            "Name: Current fleet, Length: 249, dtype: int64\n",
            "0     24.0\n",
            "1     27.0\n",
            "2     27.0\n",
            "3     25.0\n",
            "4     31.0\n",
            "      ... \n",
            "74    34.0\n",
            "75    38.0\n",
            "76    32.0\n",
            "77    38.0\n",
            "78    32.0\n",
            "Name: New Fleet, Length: 79, dtype: float64\n"
          ],
          "name": "stdout"
        },
        {
          "output_type": "display_data",
          "data": {
            "image/png": "[encoded data removed]",
            "text/plain": [
              "<Figure size 432x288 with 1 Axes>"
            ]
          },
          "metadata": {
            "tags": [],
            "needs_background": "light"
          }
        }
      ]
    },
    {
      "cell_type": "markdown",
      "metadata": {
        "id": "B5d0tXDpIEj8"
      },
      "source": [
        "## Compare the two fleets\n",
        "\n",
        "The business analysts come up a comparison algorithm that requires the upper and lower bounds for the mean in order to say which fleet is better.\n",
        "1. Calculate the mean of both samples.\n",
        "2. Using the bootstrap function that you created:\n",
        "    - Construct the 95% CI of the mean of the current fleet.\n",
        "    - Construct the 95% CI of the mean of the new fleet.\n",
        "    - Are they comparable? (i.e., is one better than the other?) -- you can do this with a permutation test (check the lecture notes!)"
      ]
    },
    {
      "cell_type": "code",
      "metadata": {
        "colab": {
          "base_uri": "https://localhost:8080/"
        },
        "id": "po4mp6zRHC0m",
        "outputId": "77adc8fd-61b8-43a4-a43d-011cbe853471"
      },
      "source": [
        "cfmean= cf.mean() #mean of current fleet array\n",
        "print( \"Current fleet mean\", cfmean)\n",
        "nfmean= nf.mean() #mean of current fleet array\n",
        "print( \"New fleet mean\",nfmean)\n",
        "\n",
        "Bs_cf = bootstrap_mean_ci(cf, cf.shape[0] ,10000,95)  #bootstrap function with 10000 bootstrap iterations and CI=95%\n",
        "Bs_cfmean =Bs_cf[0]   #returns the first element which is the mean\n",
        "Bs_nf = bootstrap_mean_ci(nf, nf.shape[0] ,10000,95)  #bootstrap function with 10000 bootstrap iterations and CI=95%\n",
        "Bs_nfmean = Bs_nf[0]\n",
        "t_obs = Bs_nfmean- Bs_cfmean     #observed difference, t_obs = mean(new fleet) - mean(old fleet)\n",
        "\n",
        "print(\"Bootstrapped curent fleet mean\",Bs_cfmean)\n",
        "print(\"Bootstrap of curent fleet\",Bs_cf)\n",
        "print(\"Bootstrap of New fleet\",Bs_nf)\n",
        "print(\"Bootstrapped New fleet mean\",Bs_nfmean)\n",
        "print(\"observed difference, t_obs: \", t_obs)"
      ],
      "execution_count": null,
      "outputs": [
        {
          "output_type": "stream",
          "text": [
            "Current fleet mean 20.14457831325301\n",
            "New fleet mean 30.481012658227847\n",
            "Bootstrapped curent fleet mean 20.139413253012048\n",
            "Bootstrap of curent fleet (20.139413253012048, 19.369477911646587, 20.92379518072289)\n",
            "Bootstrap of New fleet (30.484006329113924, 29.139240506329113, 31.848101265822784)\n",
            "Bootstrapped New fleet mean 30.484006329113924\n",
            "observed difference, t_obs:  10.344593076101877\n"
          ],
          "name": "stdout"
        }
      ]
    },
    {
      "cell_type": "code",
      "metadata": {
        "colab": {
          "base_uri": "https://localhost:8080/"
        },
        "id": "MkxvDZG4HC0n",
        "outputId": "2ca1c8f1-290d-4366-f690-dc142823be22"
      },
      "source": [
        "\n",
        "# Create your own function for a permutation test here (you will need it for the lab quiz!):\n",
        "#The function returns P value\n",
        "def permut_test(sample1, sample2, n_permutations):\n",
        "    \"\"\"\n",
        "    sample1: 1D array\n",
        "    sample2: 1D array (note that the size of the two arrays can be different)\n",
        "    n_permutations: number of permutations to calculate the p-value\n",
        "    \"\"\"\n",
        "    count=0\n",
        "    concat = np.concatenate((sample1,sample2)) #concatenate both arrays\n",
        "    for i in range(n_permutations):\n",
        "      perm = np.random.permutation(concat) #create random permutations\n",
        "      pcf = perm[0:len(sample1)]  #divide the perm to 2 arrays with respective sizes\n",
        "      pnf = perm[-len(sample2):]\n",
        "\n",
        "      #find the mean of perm values\n",
        "      pcfmean = pcf.mean()\n",
        "      pnfmean = pnf.mean()\n",
        "\n",
        "      #Find t_perm\n",
        "      t_perm= pnfmean-pcfmean  \n",
        " \n",
        "      #Find the number of times t_perm>t_obs \n",
        "      if t_perm>t_obs:\n",
        "        count+=1\n",
        "      pvalue = count/ n_permutations  #calculate pvalue\n",
        "\n",
        "      #print(\"permuted array is\",'\\n',perm,'\\n')\n",
        "      #print(\"count of cf\", len(sample1),'\\n')\n",
        "      #print(\"count of nf\",len(sample2))\n",
        "      #print(\"permuted current fleet is\",pcf,'\\n')\n",
        "      #print(\"permuted new fleet is\",pnf,'\\n')\n",
        "      #print(\"permuted cf length\",len(pcf))\n",
        "      #print(\"permuted nf length\",len(pnf))\n",
        "      #print(\"Permuted current fleet mean\",pcfmean)\n",
        "      #print(\"Permuted new fleet mean\",pnfmean)\n",
        "      #print(\"t_perm:\", t_perm, '\\n\\n')\n",
        "      #print(\"t_obs: \", t_obs)\n",
        "    return pvalue\n",
        "    \n",
        "permut_test(cf, nf, 10000)\n"
      ],
      "execution_count": null,
      "outputs": [
        {
          "output_type": "execute_result",
          "data": {
            "text/plain": [
              "0.0"
            ]
          },
          "metadata": {
            "tags": []
          },
          "execution_count": 72
        }
      ]
    }
  ]
}