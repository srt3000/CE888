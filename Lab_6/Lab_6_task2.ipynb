{
  "nbformat": 4,
  "nbformat_minor": 0,
  "metadata": {
    "colab": {
      "name": "Lab_6_task2.ipynb",
      "provenance": [],
      "collapsed_sections": [],
      "authorship_tag": "ABX9TyPwiUMbWINpnFsNxfYJYSQF",
      "include_colab_link": true
    },
    "kernelspec": {
      "name": "python3",
      "display_name": "Python 3"
    },
    "language_info": {
      "name": "python"
    }
  },
  "cells": [
    {
      "cell_type": "markdown",
      "metadata": {
        "id": "view-in-github",
        "colab_type": "text"
      },
      "source": [
        "<a href=\"https://colab.research.google.com/github/srt3000/CE888/blob/Lab_6/Lab_6/Lab_6_task2.ipynb\" target=\"_parent\"><img src=\"https://colab.research.google.com/assets/colab-badge.svg\" alt=\"Open In Colab\"/></a>"
      ]
    },
    {
      "cell_type": "markdown",
      "metadata": {
        "id": "VOjfnaAFR-dK"
      },
      "source": [
        "## To classify the countries based on the development, I have classified them based on the GDP and Inflation because, The GDP per capita is calculated as the Total GDP divided by the total population and Inflation is the measurement of the annual growth rate of the Total GDP"
      ]
    },
    {
      "cell_type": "code",
      "metadata": {
        "id": "JpB_QhyMLtcW"
      },
      "source": [
        "import numpy as np\n",
        "import pandas as pd\n",
        "from sklearn import cluster\n",
        "import matplotlib.pyplot as plt \n"
      ],
      "execution_count": null,
      "outputs": []
    },
    {
      "cell_type": "code",
      "metadata": {
        "colab": {
          "base_uri": "https://localhost:8080/",
          "height": 284
        },
        "id": "K2OC1hKHL4e6",
        "outputId": "b1790da7-1bfb-4e52-af44-4e71146a1476"
      },
      "source": [
        "#import the dataset \n",
        "df = pd.read_csv('https://raw.githubusercontent.com/sagihaider/CE888_2021/main/Lab_6/Data/Country-data.csv', header=0, index_col=None)\n",
        "df.head(8)"
      ],
      "execution_count": null,
      "outputs": [
        {
          "output_type": "execute_result",
          "data": {
            "text/html": [
              "<div>\n",
              "<style scoped>\n",
              "    .dataframe tbody tr th:only-of-type {\n",
              "        vertical-align: middle;\n",
              "    }\n",
              "\n",
              "    .dataframe tbody tr th {\n",
              "        vertical-align: top;\n",
              "    }\n",
              "\n",
              "    .dataframe thead th {\n",
              "        text-align: right;\n",
              "    }\n",
              "</style>\n",
              "<table border=\"1\" class=\"dataframe\">\n",
              "  <thead>\n",
              "    <tr style=\"text-align: right;\">\n",
              "      <th></th>\n",
              "      <th>country</th>\n",
              "      <th>child_mort</th>\n",
              "      <th>exports</th>\n",
              "      <th>health</th>\n",
              "      <th>imports</th>\n",
              "      <th>income</th>\n",
              "      <th>inflation</th>\n",
              "      <th>life_expec</th>\n",
              "      <th>total_fer</th>\n",
              "      <th>gdpp</th>\n",
              "    </tr>\n",
              "  </thead>\n",
              "  <tbody>\n",
              "    <tr>\n",
              "      <th>0</th>\n",
              "      <td>Afghanistan</td>\n",
              "      <td>90.2</td>\n",
              "      <td>10.0</td>\n",
              "      <td>7.58</td>\n",
              "      <td>44.9</td>\n",
              "      <td>1610</td>\n",
              "      <td>9.44</td>\n",
              "      <td>56.2</td>\n",
              "      <td>5.82</td>\n",
              "      <td>553</td>\n",
              "    </tr>\n",
              "    <tr>\n",
              "      <th>1</th>\n",
              "      <td>Albania</td>\n",
              "      <td>16.6</td>\n",
              "      <td>28.0</td>\n",
              "      <td>6.55</td>\n",
              "      <td>48.6</td>\n",
              "      <td>9930</td>\n",
              "      <td>4.49</td>\n",
              "      <td>76.3</td>\n",
              "      <td>1.65</td>\n",
              "      <td>4090</td>\n",
              "    </tr>\n",
              "    <tr>\n",
              "      <th>2</th>\n",
              "      <td>Algeria</td>\n",
              "      <td>27.3</td>\n",
              "      <td>38.4</td>\n",
              "      <td>4.17</td>\n",
              "      <td>31.4</td>\n",
              "      <td>12900</td>\n",
              "      <td>16.10</td>\n",
              "      <td>76.5</td>\n",
              "      <td>2.89</td>\n",
              "      <td>4460</td>\n",
              "    </tr>\n",
              "    <tr>\n",
              "      <th>3</th>\n",
              "      <td>Angola</td>\n",
              "      <td>119.0</td>\n",
              "      <td>62.3</td>\n",
              "      <td>2.85</td>\n",
              "      <td>42.9</td>\n",
              "      <td>5900</td>\n",
              "      <td>22.40</td>\n",
              "      <td>60.1</td>\n",
              "      <td>6.16</td>\n",
              "      <td>3530</td>\n",
              "    </tr>\n",
              "    <tr>\n",
              "      <th>4</th>\n",
              "      <td>Antigua and Barbuda</td>\n",
              "      <td>10.3</td>\n",
              "      <td>45.5</td>\n",
              "      <td>6.03</td>\n",
              "      <td>58.9</td>\n",
              "      <td>19100</td>\n",
              "      <td>1.44</td>\n",
              "      <td>76.8</td>\n",
              "      <td>2.13</td>\n",
              "      <td>12200</td>\n",
              "    </tr>\n",
              "    <tr>\n",
              "      <th>5</th>\n",
              "      <td>Argentina</td>\n",
              "      <td>14.5</td>\n",
              "      <td>18.9</td>\n",
              "      <td>8.10</td>\n",
              "      <td>16.0</td>\n",
              "      <td>18700</td>\n",
              "      <td>20.90</td>\n",
              "      <td>75.8</td>\n",
              "      <td>2.37</td>\n",
              "      <td>10300</td>\n",
              "    </tr>\n",
              "    <tr>\n",
              "      <th>6</th>\n",
              "      <td>Armenia</td>\n",
              "      <td>18.1</td>\n",
              "      <td>20.8</td>\n",
              "      <td>4.40</td>\n",
              "      <td>45.3</td>\n",
              "      <td>6700</td>\n",
              "      <td>7.77</td>\n",
              "      <td>73.3</td>\n",
              "      <td>1.69</td>\n",
              "      <td>3220</td>\n",
              "    </tr>\n",
              "    <tr>\n",
              "      <th>7</th>\n",
              "      <td>Australia</td>\n",
              "      <td>4.8</td>\n",
              "      <td>19.8</td>\n",
              "      <td>8.73</td>\n",
              "      <td>20.9</td>\n",
              "      <td>41400</td>\n",
              "      <td>1.16</td>\n",
              "      <td>82.0</td>\n",
              "      <td>1.93</td>\n",
              "      <td>51900</td>\n",
              "    </tr>\n",
              "  </tbody>\n",
              "</table>\n",
              "</div>"
            ],
            "text/plain": [
              "               country  child_mort  exports  ...  life_expec  total_fer   gdpp\n",
              "0          Afghanistan        90.2     10.0  ...        56.2       5.82    553\n",
              "1              Albania        16.6     28.0  ...        76.3       1.65   4090\n",
              "2              Algeria        27.3     38.4  ...        76.5       2.89   4460\n",
              "3               Angola       119.0     62.3  ...        60.1       6.16   3530\n",
              "4  Antigua and Barbuda        10.3     45.5  ...        76.8       2.13  12200\n",
              "5            Argentina        14.5     18.9  ...        75.8       2.37  10300\n",
              "6              Armenia        18.1     20.8  ...        73.3       1.69   3220\n",
              "7            Australia         4.8     19.8  ...        82.0       1.93  51900\n",
              "\n",
              "[8 rows x 10 columns]"
            ]
          },
          "metadata": {
            "tags": []
          },
          "execution_count": 29
        }
      ]
    },
    {
      "cell_type": "code",
      "metadata": {
        "colab": {
          "base_uri": "https://localhost:8080/"
        },
        "id": "Hr9VuaKiL59C",
        "outputId": "62fc71ae-e28b-4c24-8b27-66ebfcd530ba"
      },
      "source": [
        "#split data to x and y \n",
        "x = df.iloc[:, 1:10]\n",
        "y = df.iloc[:, 0:1]\n",
        "print(x)\n",
        "print(y)"
      ],
      "execution_count": null,
      "outputs": [
        {
          "output_type": "stream",
          "text": [
            "     child_mort  exports  health  ...  life_expec  total_fer   gdpp\n",
            "0          90.2     10.0    7.58  ...        56.2       5.82    553\n",
            "1          16.6     28.0    6.55  ...        76.3       1.65   4090\n",
            "2          27.3     38.4    4.17  ...        76.5       2.89   4460\n",
            "3         119.0     62.3    2.85  ...        60.1       6.16   3530\n",
            "4          10.3     45.5    6.03  ...        76.8       2.13  12200\n",
            "..          ...      ...     ...  ...         ...        ...    ...\n",
            "162        29.2     46.6    5.25  ...        63.0       3.50   2970\n",
            "163        17.1     28.5    4.91  ...        75.4       2.47  13500\n",
            "164        23.3     72.0    6.84  ...        73.1       1.95   1310\n",
            "165        56.3     30.0    5.18  ...        67.5       4.67   1310\n",
            "166        83.1     37.0    5.89  ...        52.0       5.40   1460\n",
            "\n",
            "[167 rows x 9 columns]\n",
            "                 country\n",
            "0            Afghanistan\n",
            "1                Albania\n",
            "2                Algeria\n",
            "3                 Angola\n",
            "4    Antigua and Barbuda\n",
            "..                   ...\n",
            "162              Vanuatu\n",
            "163            Venezuela\n",
            "164              Vietnam\n",
            "165                Yemen\n",
            "166               Zambia\n",
            "\n",
            "[167 rows x 1 columns]\n"
          ],
          "name": "stdout"
        }
      ]
    },
    {
      "cell_type": "markdown",
      "metadata": {
        "id": "5-NZpRuxS5JR"
      },
      "source": [
        "We are classifying into 3 , So the no of clusters = 3,\n",
        "K-Means model is made with 3 clusters"
      ]
    },
    {
      "cell_type": "code",
      "metadata": {
        "colab": {
          "base_uri": "https://localhost:8080/"
        },
        "id": "k5ypkHmiL8Qt",
        "outputId": "b73ef76d-7a1a-4fbc-9733-f33d49097a77"
      },
      "source": [
        "kmeans_model = cluster.KMeans(n_clusters=3)\n",
        "kmeans_model.fit(x)\n",
        "print(kmeans_model.labels_)\n"
      ],
      "execution_count": null,
      "outputs": [
        {
          "output_type": "stream",
          "text": [
            "[0 0 0 0 0 0 0 2 2 0 2 2 0 0 0 2 0 0 0 0 0 0 0 1 0 0 0 0 0 2 0 0 0 0 0 0 0\n",
            " 0 0 0 0 0 2 2 2 0 0 0 0 2 0 0 0 2 2 0 0 0 2 0 2 0 0 0 0 0 0 0 2 0 0 0 0 2\n",
            " 2 2 0 2 0 0 0 0 1 0 0 0 0 0 0 0 0 1 0 0 0 0 0 0 2 0 0 0 0 0 0 0 0 0 0 0 2\n",
            " 2 0 0 1 2 0 0 0 0 0 0 2 1 0 0 0 0 2 0 0 0 0 1 0 2 0 0 2 2 0 0 0 0 2 1 0 0\n",
            " 0 0 0 0 0 0 0 0 0 2 2 2 0 0 0 0 0 0 0]\n"
          ],
          "name": "stdout"
        }
      ]
    },
    {
      "cell_type": "markdown",
      "metadata": {
        "id": "fAmuh6mrTcUs"
      },
      "source": [
        "Plot of the cluster"
      ]
    },
    {
      "cell_type": "code",
      "metadata": {
        "colab": {
          "base_uri": "https://localhost:8080/",
          "height": 337
        },
        "id": "y5FfiYXJME4k",
        "outputId": "29b6c482-15ca-41eb-d194-23423abf6d1c"
      },
      "source": [
        "# 0 - under-developing country\n",
        "# 1 - developing country\n",
        "# 2 - developed country\n",
        "plt.figure(figsize=(8,5))\n",
        "plt.title(\"Scatter plot for separating counties using GDP and Inflation\", fontsize=14)\n",
        "plt.grid(True)\n",
        "\n",
        "scatter = plt.scatter(x['gdpp'],x['inflation'],c=kmeans_model.labels_,cmap='viridis',s=50)\n",
        "plt.legend(*scatter.legend_elements(), loc=\"lower right\", title=\"Category\")\n",
        "plt.show()"
      ],
      "execution_count": null,
      "outputs": [
        {
          "output_type": "display_data",
          "data": {
            "image/png": "[encoded data removed]",
            "text/plain": [
              "<Figure size 576x360 with 1 Axes>"
            ]
          },
          "metadata": {
            "tags": [],
            "needs_background": "light"
          }
        }
      ]
    },
    {
      "cell_type": "markdown",
      "metadata": {
        "id": "IoUgoay8TmW9"
      },
      "source": [
        "Create a copy of the data see the number of countries classified to under developed, developing and developed"
      ]
    },
    {
      "cell_type": "code",
      "metadata": {
        "colab": {
          "base_uri": "https://localhost:8080/"
        },
        "id": "7nwneXGVMMCW",
        "outputId": "4069e45f-181a-4b40-c987-577dd4f3430c"
      },
      "source": [
        "data = df.copy()\n",
        "data['label'] = kmeans_model.labels_\n",
        "data['label'].value_counts()"
      ],
      "execution_count": null,
      "outputs": [
        {
          "output_type": "execute_result",
          "data": {
            "text/plain": [
              "0    128\n",
              "2     32\n",
              "1      7\n",
              "Name: label, dtype: int64"
            ]
          },
          "metadata": {
            "tags": []
          },
          "execution_count": 32
        }
      ]
    },
    {
      "cell_type": "markdown",
      "metadata": {
        "id": "aHDjTMlQUmhL"
      },
      "source": [
        "Change the genereated labels \"0,1,2\" to 'under-developing country', 'developing country', 'developed country'."
      ]
    },
    {
      "cell_type": "code",
      "metadata": {
        "id": "55gYrNPJMd7n"
      },
      "source": [
        "data[['label']] = data['label'].replace([0,1,2], ['under-developing country', 'developing country', 'developed country'])\n",
        "\n"
      ],
      "execution_count": null,
      "outputs": []
    },
    {
      "cell_type": "code",
      "metadata": {
        "colab": {
          "base_uri": "https://localhost:8080/"
        },
        "id": "9NZx3ibSU88W",
        "outputId": "76a37c42-093b-4c39-e2bc-e7d1b9d41928"
      },
      "source": [
        "print(data)"
      ],
      "execution_count": null,
      "outputs": [
        {
          "output_type": "stream",
          "text": [
            "                 country  child_mort  ...   gdpp                     label\n",
            "0            Afghanistan        90.2  ...    553  under-developing country\n",
            "1                Albania        16.6  ...   4090  under-developing country\n",
            "2                Algeria        27.3  ...   4460  under-developing country\n",
            "3                 Angola       119.0  ...   3530  under-developing country\n",
            "4    Antigua and Barbuda        10.3  ...  12200  under-developing country\n",
            "..                   ...         ...  ...    ...                       ...\n",
            "162              Vanuatu        29.2  ...   2970  under-developing country\n",
            "163            Venezuela        17.1  ...  13500  under-developing country\n",
            "164              Vietnam        23.3  ...   1310  under-developing country\n",
            "165                Yemen        56.3  ...   1310  under-developing country\n",
            "166               Zambia        83.1  ...   1460  under-developing country\n",
            "\n",
            "[167 rows x 11 columns]\n"
          ],
          "name": "stdout"
        }
      ]
    },
    {
      "cell_type": "code",
      "metadata": {
        "id": "svStQRjrVb6o"
      },
      "source": [
        ""
      ],
      "execution_count": null,
      "outputs": []
    }
  ]
}